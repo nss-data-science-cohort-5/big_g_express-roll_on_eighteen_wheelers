{
 "cells": [
  {
   "cell_type": "markdown",
   "id": "927f0b45",
   "metadata": {},
   "source": [
    "## BIG G EXPRESS EDA STEP 2 - 4/7/2022\n",
    "### ROLL ON EIGHTEEN WHEELERS"
   ]
  },
  {
   "cell_type": "code",
   "execution_count": 39,
   "id": "5d9f9ee8",
   "metadata": {},
   "outputs": [],
   "source": [
    "# IMPORT LIBRARIES\n",
    "\n",
    "import matplotlib as mpl\n",
    "import matplotlib.pyplot as plt\n",
    "import numpy as np\n",
    "import pandas as pd\n",
    "from sklearn.compose import ColumnTransformer\n",
    "from sklearn.feature_selection import VarianceThreshold\n",
    "from sklearn.linear_model import LinearRegression, LogisticRegression\n",
    "from sklearn.metrics import accuracy_score, confusion_matrix, classification_report,\\\n",
    "    mean_squared_error\n",
    "from sklearn.model_selection import train_test_split\n",
    "from sklearn.pipeline import Pipeline\n",
    "from sklearn.preprocessing import OneHotEncoder, PolynomialFeatures"
   ]
  },
  {
   "cell_type": "markdown",
   "id": "39dd6068",
   "metadata": {},
   "source": [
    "#### CORRELATIONS, etc. (** TO DO **)"
   ]
  },
  {
   "cell_type": "code",
   "execution_count": 5,
   "id": "44f861bb",
   "metadata": {},
   "outputs": [],
   "source": [
    "jfaults_prepped = pd.read_csv('../data/jfaults_prepped.csv')"
   ]
  },
  {
   "cell_type": "code",
   "execution_count": 6,
   "id": "2a50b408",
   "metadata": {
    "scrolled": true
   },
   "outputs": [
    {
     "data": {
      "text/html": [
       "<div>\n",
       "<style scoped>\n",
       "    .dataframe tbody tr th:only-of-type {\n",
       "        vertical-align: middle;\n",
       "    }\n",
       "\n",
       "    .dataframe tbody tr th {\n",
       "        vertical-align: top;\n",
       "    }\n",
       "\n",
       "    .dataframe thead th {\n",
       "        text-align: right;\n",
       "    }\n",
       "</style>\n",
       "<table border=\"1\" class=\"dataframe\">\n",
       "  <thead>\n",
       "    <tr style=\"text-align: right;\">\n",
       "      <th></th>\n",
       "      <th>Unnamed: 0</th>\n",
       "      <th>RecordID</th>\n",
       "      <th>ESS_Id</th>\n",
       "      <th>EventTimeStamp</th>\n",
       "      <th>eventDescription</th>\n",
       "      <th>ecuSoftwareVersion</th>\n",
       "      <th>ecuSerialNumber</th>\n",
       "      <th>ecuModel</th>\n",
       "      <th>ecuMake</th>\n",
       "      <th>ecuSource</th>\n",
       "      <th>spn</th>\n",
       "      <th>fmi</th>\n",
       "      <th>active</th>\n",
       "      <th>activeTransitionCount</th>\n",
       "      <th>EquipmentID</th>\n",
       "      <th>MCTNumber</th>\n",
       "      <th>Latitude</th>\n",
       "      <th>Longitude</th>\n",
       "      <th>LocationTimeStamp</th>\n",
       "    </tr>\n",
       "  </thead>\n",
       "  <tbody>\n",
       "    <tr>\n",
       "      <th>0</th>\n",
       "      <td>0</td>\n",
       "      <td>1</td>\n",
       "      <td>990349</td>\n",
       "      <td>2015-02-21 10:47:13.000</td>\n",
       "      <td>Low (Severity Low) Engine Coolant Level</td>\n",
       "      <td>unknown</td>\n",
       "      <td>unknown</td>\n",
       "      <td>unknown</td>\n",
       "      <td>unknown</td>\n",
       "      <td>0</td>\n",
       "      <td>111</td>\n",
       "      <td>17</td>\n",
       "      <td>1</td>\n",
       "      <td>2</td>\n",
       "      <td>1439</td>\n",
       "      <td>105354361</td>\n",
       "      <td>38.857638</td>\n",
       "      <td>-84.626851</td>\n",
       "      <td>2015-02-21 11:34:25.000</td>\n",
       "    </tr>\n",
       "    <tr>\n",
       "      <th>1</th>\n",
       "      <td>1</td>\n",
       "      <td>2</td>\n",
       "      <td>990360</td>\n",
       "      <td>2015-02-21 11:34:34.000</td>\n",
       "      <td>NaN</td>\n",
       "      <td>unknown</td>\n",
       "      <td>unknown</td>\n",
       "      <td>unknown</td>\n",
       "      <td>unknown</td>\n",
       "      <td>11</td>\n",
       "      <td>629</td>\n",
       "      <td>12</td>\n",
       "      <td>1</td>\n",
       "      <td>127</td>\n",
       "      <td>1439</td>\n",
       "      <td>105354361</td>\n",
       "      <td>38.857638</td>\n",
       "      <td>-84.626851</td>\n",
       "      <td>2015-02-21 11:35:10.000</td>\n",
       "    </tr>\n",
       "    <tr>\n",
       "      <th>2</th>\n",
       "      <td>2</td>\n",
       "      <td>4</td>\n",
       "      <td>990370</td>\n",
       "      <td>2015-02-21 11:35:33.000</td>\n",
       "      <td>Incorrect Data Steering Wheel Angle</td>\n",
       "      <td>unknown</td>\n",
       "      <td>unknown</td>\n",
       "      <td>unknown</td>\n",
       "      <td>unknown</td>\n",
       "      <td>11</td>\n",
       "      <td>1807</td>\n",
       "      <td>2</td>\n",
       "      <td>1</td>\n",
       "      <td>127</td>\n",
       "      <td>1369</td>\n",
       "      <td>105336226</td>\n",
       "      <td>41.421018</td>\n",
       "      <td>-87.767361</td>\n",
       "      <td>2015-02-21 11:36:08.000</td>\n",
       "    </tr>\n",
       "    <tr>\n",
       "      <th>3</th>\n",
       "      <td>3</td>\n",
       "      <td>6</td>\n",
       "      <td>990431</td>\n",
       "      <td>2015-02-21 11:40:22.000</td>\n",
       "      <td>Low (Severity Low) Engine Coolant Level</td>\n",
       "      <td>04993120*00025921*082113134117*07700053*I0*BBZ*</td>\n",
       "      <td>79466580</td>\n",
       "      <td>6X1u10D1500000000</td>\n",
       "      <td>CMMNS</td>\n",
       "      <td>0</td>\n",
       "      <td>111</td>\n",
       "      <td>17</td>\n",
       "      <td>1</td>\n",
       "      <td>1</td>\n",
       "      <td>1417</td>\n",
       "      <td>105438630</td>\n",
       "      <td>33.043564</td>\n",
       "      <td>-96.179722</td>\n",
       "      <td>2015-02-21 11:40:59.000</td>\n",
       "    </tr>\n",
       "    <tr>\n",
       "      <th>4</th>\n",
       "      <td>4</td>\n",
       "      <td>7</td>\n",
       "      <td>990439</td>\n",
       "      <td>2015-02-21 11:40:52.000</td>\n",
       "      <td>Low (Severity Low) Engine Coolant Level</td>\n",
       "      <td>unknown</td>\n",
       "      <td>unknown</td>\n",
       "      <td>unknown</td>\n",
       "      <td>unknown</td>\n",
       "      <td>0</td>\n",
       "      <td>111</td>\n",
       "      <td>17</td>\n",
       "      <td>1</td>\n",
       "      <td>2</td>\n",
       "      <td>1597</td>\n",
       "      <td>105344243</td>\n",
       "      <td>36.902916</td>\n",
       "      <td>-86.436481</td>\n",
       "      <td>2015-02-21 11:41:29.000</td>\n",
       "    </tr>\n",
       "  </tbody>\n",
       "</table>\n",
       "</div>"
      ],
      "text/plain": [
       "   Unnamed: 0  RecordID  ESS_Id           EventTimeStamp  \\\n",
       "0           0         1  990349  2015-02-21 10:47:13.000   \n",
       "1           1         2  990360  2015-02-21 11:34:34.000   \n",
       "2           2         4  990370  2015-02-21 11:35:33.000   \n",
       "3           3         6  990431  2015-02-21 11:40:22.000   \n",
       "4           4         7  990439  2015-02-21 11:40:52.000   \n",
       "\n",
       "                          eventDescription  \\\n",
       "0  Low (Severity Low) Engine Coolant Level   \n",
       "1                                      NaN   \n",
       "2      Incorrect Data Steering Wheel Angle   \n",
       "3  Low (Severity Low) Engine Coolant Level   \n",
       "4  Low (Severity Low) Engine Coolant Level   \n",
       "\n",
       "                                ecuSoftwareVersion ecuSerialNumber  \\\n",
       "0                                          unknown         unknown   \n",
       "1                                          unknown         unknown   \n",
       "2                                          unknown         unknown   \n",
       "3  04993120*00025921*082113134117*07700053*I0*BBZ*        79466580   \n",
       "4                                          unknown         unknown   \n",
       "\n",
       "            ecuModel  ecuMake  ecuSource   spn  fmi  active  \\\n",
       "0            unknown  unknown          0   111   17       1   \n",
       "1            unknown  unknown         11   629   12       1   \n",
       "2            unknown  unknown         11  1807    2       1   \n",
       "3  6X1u10D1500000000    CMMNS          0   111   17       1   \n",
       "4            unknown  unknown          0   111   17       1   \n",
       "\n",
       "   activeTransitionCount  EquipmentID  MCTNumber   Latitude  Longitude  \\\n",
       "0                      2         1439  105354361  38.857638 -84.626851   \n",
       "1                    127         1439  105354361  38.857638 -84.626851   \n",
       "2                    127         1369  105336226  41.421018 -87.767361   \n",
       "3                      1         1417  105438630  33.043564 -96.179722   \n",
       "4                      2         1597  105344243  36.902916 -86.436481   \n",
       "\n",
       "         LocationTimeStamp  \n",
       "0  2015-02-21 11:34:25.000  \n",
       "1  2015-02-21 11:35:10.000  \n",
       "2  2015-02-21 11:36:08.000  \n",
       "3  2015-02-21 11:40:59.000  \n",
       "4  2015-02-21 11:41:29.000  "
      ]
     },
     "execution_count": 6,
     "metadata": {},
     "output_type": "execute_result"
    }
   ],
   "source": [
    "jfaults_prepped.head()"
   ]
  },
  {
   "cell_type": "markdown",
   "id": "0c7f566f",
   "metadata": {},
   "source": [
    "#### SIMPLE LINEAR-REGRESSION APPROACH - SEE 3/12/2022 Intro_Linear_Regression.ipynb"
   ]
  },
  {
   "cell_type": "markdown",
   "id": "39707634",
   "metadata": {},
   "source": [
    "(ONE PREDICTOR)"
   ]
  },
  {
   "cell_type": "code",
   "execution_count": 7,
   "id": "d834f4e1",
   "metadata": {},
   "outputs": [],
   "source": [
    "linreg = LinearRegression()"
   ]
  },
  {
   "cell_type": "code",
   "execution_count": 27,
   "id": "2bc11dad",
   "metadata": {},
   "outputs": [],
   "source": [
    "X = jfaults_prepped[['activeTransitionCount']]\n",
    "y = jfaults_prepped['spn']\n",
    "\n",
    "X_train, X_test, y_train, y_test = train_test_split(X, y,\n",
    "                                                    random_state = 321)"
   ]
  },
  {
   "cell_type": "code",
   "execution_count": 28,
   "id": "85e85f81",
   "metadata": {},
   "outputs": [
    {
     "data": {
      "text/plain": [
       "LinearRegression()"
      ]
     },
     "execution_count": 28,
     "metadata": {},
     "output_type": "execute_result"
    }
   ],
   "source": [
    "linreg.fit(X_train, y_train)"
   ]
  },
  {
   "cell_type": "code",
   "execution_count": 29,
   "id": "e96cf6e0",
   "metadata": {},
   "outputs": [
    {
     "data": {
      "text/plain": [
       "5588.226488522059"
      ]
     },
     "execution_count": 29,
     "metadata": {},
     "output_type": "execute_result"
    }
   ],
   "source": [
    "linreg.intercept_"
   ]
  },
  {
   "cell_type": "code",
   "execution_count": 30,
   "id": "512bcdbc",
   "metadata": {},
   "outputs": [
    {
     "data": {
      "text/plain": [
       "array([-34.91566345])"
      ]
     },
     "execution_count": 30,
     "metadata": {},
     "output_type": "execute_result"
    }
   ],
   "source": [
    "linreg.coef_"
   ]
  },
  {
   "cell_type": "code",
   "execution_count": 31,
   "id": "dc370922",
   "metadata": {},
   "outputs": [
    {
     "data": {
      "text/plain": [
       "array([5518.39516162, 1153.93723029, 1153.93723029, ..., 5413.64817127,\n",
       "       5553.31082507, 5308.90118092])"
      ]
     },
     "execution_count": 31,
     "metadata": {},
     "output_type": "execute_result"
    }
   ],
   "source": [
    "linreg.predict(jfaults_prepped[['activeTransitionCount']])"
   ]
  },
  {
   "cell_type": "code",
   "execution_count": 32,
   "id": "6af716fe",
   "metadata": {},
   "outputs": [
    {
     "data": {
      "text/plain": [
       "700919823.3057517"
      ]
     },
     "execution_count": 32,
     "metadata": {},
     "output_type": "execute_result"
    }
   ],
   "source": [
    "mean_squared_error(y_train, linreg.predict(X_train))"
   ]
  },
  {
   "cell_type": "code",
   "execution_count": 33,
   "id": "aed1746e",
   "metadata": {},
   "outputs": [
    {
     "data": {
      "text/plain": [
       "704141507.2017102"
      ]
     },
     "execution_count": 33,
     "metadata": {},
     "output_type": "execute_result"
    }
   ],
   "source": [
    "mean_squared_error(y_test, linreg.predict(X_test))"
   ]
  },
  {
   "cell_type": "code",
   "execution_count": 34,
   "id": "657ac317",
   "metadata": {},
   "outputs": [
    {
     "name": "stderr",
     "output_type": "stream",
     "text": [
      "/opt/anaconda3/lib/python3.8/site-packages/sklearn/base.py:450: UserWarning: X does not have valid feature names, but LinearRegression was fitted with feature names\n",
      "  warnings.warn(\n"
     ]
    },
    {
     "data": {
      "image/png": "[encoded data removed]",
      "text/plain": [
       "<Figure size 720x432 with 1 Axes>"
      ]
     },
     "metadata": {
      "needs_background": "light"
     },
     "output_type": "display_data"
    }
   ],
   "source": [
    "x_grid = np.linspace(start = 0, \\\n",
    "                     stop = np.max(jfaults_prepped['activeTransitionCount']\\\n",
    "                              .head(25)))\n",
    "y_grid = linreg.predict(x_grid.reshape(-1, 1))\n",
    "\n",
    "fontsize = 16\n",
    "\n",
    "fig, ax = plt.subplots(figsize = (10,6))\n",
    "\n",
    "\n",
    "plt.plot(x_grid, \n",
    "         y_grid, \n",
    "         label = 'prediction')\n",
    "\n",
    "jfaults_prepped.head(50).plot(kind = 'scatter',\n",
    "                              x = 'activeTransitionCount',\n",
    "                              y = 'spn',\n",
    "                              ax = ax,\n",
    "                              color = 'black',\n",
    "                              label = 'observed')\n",
    "\n",
    "plt.legend(fontsize = fontsize - 2)\n",
    "\n",
    "\n",
    "plt.xlabel('activeTransitionCount', fontsize = fontsize)\n",
    "plt.ylabel('spn', fontsize = fontsize)\n",
    "plt.xticks(fontsize = fontsize - 2)\n",
    "plt.yticks(fontsize = fontsize - 2)\n",
    "ax.yaxis.set_major_formatter(mpl.ticker.StrMethodFormatter('${x:,.0f}'));"
   ]
  },
  {
   "cell_type": "markdown",
   "id": "3caa7418",
   "metadata": {},
   "source": [
    "#### LOGISTIC-REGRESSION APPROACH - SEE 3/24/2022 Penguins_Linear_Regression-Interactions-sklearn.ipynb"
   ]
  },
  {
   "cell_type": "markdown",
   "id": "b1bcc889",
   "metadata": {},
   "source": [
    "(THREE PREDICTORS)"
   ]
  },
  {
   "cell_type": "code",
   "execution_count": 42,
   "id": "0dfe372b",
   "metadata": {},
   "outputs": [],
   "source": [
    "logreg_vars = ['activeTransitionCount']\n",
    "categor_vars = ['eventDescription', 'active']\n",
    "\n",
    "X = jfaults_prepped[logreg_vars]\n",
    "y = jfaults_prepped['spn']\n",
    "\n",
    "X_train, X_test, y_train, y_test = train_test_split(X, y,\n",
    "                                                    random_state = 321)"
   ]
  },
  {
   "cell_type": "code",
   "execution_count": 43,
   "id": "bce656fb",
   "metadata": {},
   "outputs": [
    {
     "ename": "KeyError",
     "evalue": "\"None of [Index(['eventDescription', 'active'], dtype='object')] are in the [columns]\"",
     "output_type": "error",
     "traceback": [
      "\u001b[0;31m---------------------------------------------------------------------------\u001b[0m",
      "\u001b[0;31mKeyError\u001b[0m                                  Traceback (most recent call last)",
      "\u001b[0;32m<ipython-input-43-a5d04dd04965>\u001b[0m in \u001b[0;36m<module>\u001b[0;34m\u001b[0m\n\u001b[1;32m      1\u001b[0m ohe = OneHotEncoder(sparse = False,\n\u001b[1;32m      2\u001b[0m                     drop = 'first')\n\u001b[0;32m----> 3\u001b[0;31m \u001b[0mohe\u001b[0m\u001b[0;34m.\u001b[0m\u001b[0mfit\u001b[0m\u001b[0;34m(\u001b[0m\u001b[0mX_train\u001b[0m\u001b[0;34m[\u001b[0m\u001b[0mcategor_vars\u001b[0m\u001b[0;34m]\u001b[0m\u001b[0;34m)\u001b[0m\u001b[0;34m\u001b[0m\u001b[0;34m\u001b[0m\u001b[0m\n\u001b[0m",
      "\u001b[0;32m/opt/anaconda3/lib/python3.8/site-packages/pandas/core/frame.py\u001b[0m in \u001b[0;36m__getitem__\u001b[0;34m(self, key)\u001b[0m\n\u001b[1;32m   3028\u001b[0m             \u001b[0;32mif\u001b[0m \u001b[0mis_iterator\u001b[0m\u001b[0;34m(\u001b[0m\u001b[0mkey\u001b[0m\u001b[0;34m)\u001b[0m\u001b[0;34m:\u001b[0m\u001b[0;34m\u001b[0m\u001b[0;34m\u001b[0m\u001b[0m\n\u001b[1;32m   3029\u001b[0m                 \u001b[0mkey\u001b[0m \u001b[0;34m=\u001b[0m \u001b[0mlist\u001b[0m\u001b[0;34m(\u001b[0m\u001b[0mkey\u001b[0m\u001b[0;34m)\u001b[0m\u001b[0;34m\u001b[0m\u001b[0;34m\u001b[0m\u001b[0m\n\u001b[0;32m-> 3030\u001b[0;31m             \u001b[0mindexer\u001b[0m \u001b[0;34m=\u001b[0m \u001b[0mself\u001b[0m\u001b[0;34m.\u001b[0m\u001b[0mloc\u001b[0m\u001b[0;34m.\u001b[0m\u001b[0m_get_listlike_indexer\u001b[0m\u001b[0;34m(\u001b[0m\u001b[0mkey\u001b[0m\u001b[0;34m,\u001b[0m \u001b[0maxis\u001b[0m\u001b[0;34m=\u001b[0m\u001b[0;36m1\u001b[0m\u001b[0;34m,\u001b[0m \u001b[0mraise_missing\u001b[0m\u001b[0;34m=\u001b[0m\u001b[0;32mTrue\u001b[0m\u001b[0;34m)\u001b[0m\u001b[0;34m[\u001b[0m\u001b[0;36m1\u001b[0m\u001b[0;34m]\u001b[0m\u001b[0;34m\u001b[0m\u001b[0;34m\u001b[0m\u001b[0m\n\u001b[0m\u001b[1;32m   3031\u001b[0m \u001b[0;34m\u001b[0m\u001b[0m\n\u001b[1;32m   3032\u001b[0m         \u001b[0;31m# take() does not accept boolean indexers\u001b[0m\u001b[0;34m\u001b[0m\u001b[0;34m\u001b[0m\u001b[0;34m\u001b[0m\u001b[0m\n",
      "\u001b[0;32m/opt/anaconda3/lib/python3.8/site-packages/pandas/core/indexing.py\u001b[0m in \u001b[0;36m_get_listlike_indexer\u001b[0;34m(self, key, axis, raise_missing)\u001b[0m\n\u001b[1;32m   1264\u001b[0m             \u001b[0mkeyarr\u001b[0m\u001b[0;34m,\u001b[0m \u001b[0mindexer\u001b[0m\u001b[0;34m,\u001b[0m \u001b[0mnew_indexer\u001b[0m \u001b[0;34m=\u001b[0m \u001b[0max\u001b[0m\u001b[0;34m.\u001b[0m\u001b[0m_reindex_non_unique\u001b[0m\u001b[0;34m(\u001b[0m\u001b[0mkeyarr\u001b[0m\u001b[0;34m)\u001b[0m\u001b[0;34m\u001b[0m\u001b[0;34m\u001b[0m\u001b[0m\n\u001b[1;32m   1265\u001b[0m \u001b[0;34m\u001b[0m\u001b[0m\n\u001b[0;32m-> 1266\u001b[0;31m         \u001b[0mself\u001b[0m\u001b[0;34m.\u001b[0m\u001b[0m_validate_read_indexer\u001b[0m\u001b[0;34m(\u001b[0m\u001b[0mkeyarr\u001b[0m\u001b[0;34m,\u001b[0m \u001b[0mindexer\u001b[0m\u001b[0;34m,\u001b[0m \u001b[0maxis\u001b[0m\u001b[0;34m,\u001b[0m \u001b[0mraise_missing\u001b[0m\u001b[0;34m=\u001b[0m\u001b[0mraise_missing\u001b[0m\u001b[0;34m)\u001b[0m\u001b[0;34m\u001b[0m\u001b[0;34m\u001b[0m\u001b[0m\n\u001b[0m\u001b[1;32m   1267\u001b[0m         \u001b[0;32mreturn\u001b[0m \u001b[0mkeyarr\u001b[0m\u001b[0;34m,\u001b[0m \u001b[0mindexer\u001b[0m\u001b[0;34m\u001b[0m\u001b[0;34m\u001b[0m\u001b[0m\n\u001b[1;32m   1268\u001b[0m \u001b[0;34m\u001b[0m\u001b[0m\n",
      "\u001b[0;32m/opt/anaconda3/lib/python3.8/site-packages/pandas/core/indexing.py\u001b[0m in \u001b[0;36m_validate_read_indexer\u001b[0;34m(self, key, indexer, axis, raise_missing)\u001b[0m\n\u001b[1;32m   1306\u001b[0m             \u001b[0;32mif\u001b[0m \u001b[0mmissing\u001b[0m \u001b[0;34m==\u001b[0m \u001b[0mlen\u001b[0m\u001b[0;34m(\u001b[0m\u001b[0mindexer\u001b[0m\u001b[0;34m)\u001b[0m\u001b[0;34m:\u001b[0m\u001b[0;34m\u001b[0m\u001b[0;34m\u001b[0m\u001b[0m\n\u001b[1;32m   1307\u001b[0m                 \u001b[0maxis_name\u001b[0m \u001b[0;34m=\u001b[0m \u001b[0mself\u001b[0m\u001b[0;34m.\u001b[0m\u001b[0mobj\u001b[0m\u001b[0;34m.\u001b[0m\u001b[0m_get_axis_name\u001b[0m\u001b[0;34m(\u001b[0m\u001b[0maxis\u001b[0m\u001b[0;34m)\u001b[0m\u001b[0;34m\u001b[0m\u001b[0;34m\u001b[0m\u001b[0m\n\u001b[0;32m-> 1308\u001b[0;31m                 \u001b[0;32mraise\u001b[0m \u001b[0mKeyError\u001b[0m\u001b[0;34m(\u001b[0m\u001b[0;34mf\"None of [{key}] are in the [{axis_name}]\"\u001b[0m\u001b[0;34m)\u001b[0m\u001b[0;34m\u001b[0m\u001b[0;34m\u001b[0m\u001b[0m\n\u001b[0m\u001b[1;32m   1309\u001b[0m \u001b[0;34m\u001b[0m\u001b[0m\n\u001b[1;32m   1310\u001b[0m             \u001b[0max\u001b[0m \u001b[0;34m=\u001b[0m \u001b[0mself\u001b[0m\u001b[0;34m.\u001b[0m\u001b[0mobj\u001b[0m\u001b[0;34m.\u001b[0m\u001b[0m_get_axis\u001b[0m\u001b[0;34m(\u001b[0m\u001b[0maxis\u001b[0m\u001b[0;34m)\u001b[0m\u001b[0;34m\u001b[0m\u001b[0;34m\u001b[0m\u001b[0m\n",
      "\u001b[0;31mKeyError\u001b[0m: \"None of [Index(['eventDescription', 'active'], dtype='object')] are in the [columns]\""
     ]
    }
   ],
   "source": [
    "# TO DO - GETTING ERRORS\n",
    "\n",
    "ohe = OneHotEncoder(sparse = False,\n",
    "                    drop = 'first')\n",
    "ohe.fit(X_train[categor_vars])"
   ]
  },
  {
   "cell_type": "code",
   "execution_count": 37,
   "id": "24fbf4ea",
   "metadata": {},
   "outputs": [
    {
     "ename": "NameError",
     "evalue": "name 'linreg2' is not defined",
     "output_type": "error",
     "traceback": [
      "\u001b[0;31m---------------------------------------------------------------------------\u001b[0m",
      "\u001b[0;31mNameError\u001b[0m                                 Traceback (most recent call last)",
      "\u001b[0;32m<ipython-input-37-5789e2f96df4>\u001b[0m in \u001b[0;36m<module>\u001b[0;34m\u001b[0m\n\u001b[1;32m      1\u001b[0m linreg2_coefficients = pd.DataFrame({\n\u001b[1;32m      2\u001b[0m     \u001b[0;34m'variable'\u001b[0m\u001b[0;34m:\u001b[0m \u001b[0;34m[\u001b[0m\u001b[0;34m'intercept'\u001b[0m\u001b[0;34m]\u001b[0m \u001b[0;34m+\u001b[0m \u001b[0mlinreg2_predictors\u001b[0m\u001b[0;34m,\u001b[0m\u001b[0;34m\u001b[0m\u001b[0;34m\u001b[0m\u001b[0m\n\u001b[0;32m----> 3\u001b[0;31m     \u001b[0;34m'coefficient'\u001b[0m\u001b[0;34m:\u001b[0m \u001b[0;34m[\u001b[0m\u001b[0mlinreg2\u001b[0m\u001b[0;34m.\u001b[0m\u001b[0mintercept_\u001b[0m\u001b[0;34m]\u001b[0m \u001b[0;34m+\u001b[0m \u001b[0mlist\u001b[0m\u001b[0;34m(\u001b[0m\u001b[0mlinreg2\u001b[0m\u001b[0;34m.\u001b[0m\u001b[0mcoef_\u001b[0m\u001b[0;34m)\u001b[0m\u001b[0;34m\u001b[0m\u001b[0;34m\u001b[0m\u001b[0m\n\u001b[0m\u001b[1;32m      4\u001b[0m })\n\u001b[1;32m      5\u001b[0m \u001b[0;34m\u001b[0m\u001b[0m\n",
      "\u001b[0;31mNameError\u001b[0m: name 'linreg2' is not defined"
     ]
    }
   ],
   "source": [
    "linreg2_coefficients = pd.DataFrame({\n",
    "    'variable': ['intercept'] + linreg2_predictors,\n",
    "    'coefficient': [linreg2.intercept_] + list(linreg2.coef_)\n",
    "})\n",
    "\n",
    "coefficients"
   ]
  },
  {
   "cell_type": "code",
   "execution_count": null,
   "id": "1a32659a",
   "metadata": {},
   "outputs": [],
   "source": [
    "mean_squared_error(y_train, linreg2.predict(X_train))"
   ]
  },
  {
   "cell_type": "code",
   "execution_count": null,
   "id": "c2d6b0e7",
   "metadata": {},
   "outputs": [],
   "source": [
    "#faults_grouped = jfaults_prepped.groupby([])[]\\\n",
    "#                                .sum().reset_index()\n",
    "\n",
    "#faults_grouped.head()"
   ]
  },
  {
   "cell_type": "code",
   "execution_count": null,
   "id": "b207bed5",
   "metadata": {},
   "outputs": [],
   "source": []
  },
  {
   "cell_type": "markdown",
   "id": "7135865b",
   "metadata": {},
   "source": [
    "#### PROCEED TO big_g_eda_2022-04-07-step2_RK FOR GEOSPATIAL JAZZ (** TO DO **)"
   ]
  }
 ],
 "metadata": {
  "kernelspec": {
   "display_name": "Python 3",
   "language": "python",
   "name": "python3"
  },
  "language_info": {
   "codemirror_mode": {
    "name": "ipython",
    "version": 3
   },
   "file_extension": ".py",
   "mimetype": "text/x-python",
   "name": "python",
   "nbconvert_exporter": "python",
   "pygments_lexer": "ipython3",
   "version": "3.8.8"
  }
 },
 "nbformat": 4,
 "nbformat_minor": 5
}
